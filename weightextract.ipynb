{
 "cells": [
  {
   "cell_type": "code",
   "execution_count": 31,
   "metadata": {},
   "outputs": [
    {
     "name": "stdout",
     "output_type": "stream",
     "text": [
      "hello\n"
     ]
    }
   ],
   "source": [
    "print(\"hello\")\n",
    "from keras.models import load_model\n",
    "from matplotlib import pyplot as plt\n"
   ]
  },
  {
   "cell_type": "code",
   "execution_count": 43,
   "metadata": {},
   "outputs": [
    {
     "name": "stdout",
     "output_type": "stream",
     "text": [
      "109.70824 78.28762\n"
     ]
    }
   ],
   "source": [
    "def loadparameters(filepath):\n",
    "    filepath = open('/home/adrienj/Desktop/AudioNet-master/scripts/varmean.txt','r')\n",
    "    f = filepath.readlines()\n",
    "    xmean = f[0]\n",
    "    xvar = f[1]\n",
    "    xmean = xmean.strip('\\n')\n",
    "    xvar = xvar.strip('\\n')\n",
    "    xmeanxvar = xmean+' '+xvar\n",
    "    return xmeanxvar \n",
    "print(loadparameters('/home/adrienj/Desktop/AudioNet-master/scripts/varmean.txt'))"
   ]
  },
  {
   "cell_type": "code",
   "execution_count": 45,
   "metadata": {},
   "outputs": [
    {
     "name": "stdout",
     "output_type": "stream",
     "text": [
      "[<keras.layers.convolutional.ZeroPadding2D object at 0x7fdc61f2ad30>, <keras.layers.convolutional.Conv2D object at 0x7fdc7009a2e8>, <keras.layers.pooling.MaxPooling2D object at 0x7fdc7009a4a8>, <keras.layers.convolutional.ZeroPadding2D object at 0x7fdc7009a2b0>, <keras.layers.convolutional.Conv2D object at 0x7fdc61e3fbe0>, <keras.layers.pooling.MaxPooling2D object at 0x7fdc626e0cc0>, <keras.layers.core.Flatten object at 0x7fdc61e7c320>, <keras.layers.core.Dense object at 0x7fdc61e7cc50>, <keras.layers.core.Dropout object at 0x7fdc61ec5c18>, <keras.layers.core.Dense object at 0x7fdc61ec5320>, <keras.layers.core.Dense object at 0x7fdc61e9f4a8>]\n"
     ]
    }
   ],
   "source": [
    "def load_a_model(modeltoload):\n",
    "    model = load_model(modeltoload)\n",
    "    return model\n",
    "model = load_a_model('/home/adrienj/Desktop/AudioNet-master/scripts/voicekerasmodel.h5')\n",
    "print(model.layers)\n",
    "x = model.layers[1] #conv n°1\n",
    "x2 = model.layers[4] #conv n°2"
   ]
  },
  {
   "cell_type": "code",
   "execution_count": 35,
   "metadata": {},
   "outputs": [
    {
     "name": "stdout",
     "output_type": "stream",
     "text": [
      "(3, 3, 3, 32)\n"
     ]
    }
   ],
   "source": [
    "print(x.get_weights()[0].shape) \n",
    "b = x.get_weights()[1] # liste des biais \n",
    "w = x.get_weights()[0][:,:,0,:]"
   ]
  },
  {
   "cell_type": "code",
   "execution_count": 42,
   "metadata": {},
   "outputs": [
    {
     "data": {
      "image/png": "[encoded data removed]",
      "text/plain": [
       "<Figure size 432x288 with 31 Axes>"
      ]
     },
     "metadata": {},
     "output_type": "display_data"
    }
   ],
   "source": [
    "for i in range(1,32):\n",
    "    plt.subplot(7,7,i)\n",
    "    plt.imshow(w[:,:,i],interpolation=\"nearest\",cmap=\"Greys\")\n",
    "plt.show()"
   ]
  },
  {
   "cell_type": "code",
   "execution_count": null,
   "metadata": {},
   "outputs": [],
   "source": []
  },
  {
   "cell_type": "code",
   "execution_count": null,
   "metadata": {},
   "outputs": [],
   "source": []
  }
 ],
 "metadata": {
  "kernelspec": {
   "display_name": "Python 3",
   "language": "python",
   "name": "python3"
  },
  "language_info": {
   "codemirror_mode": {
    "name": "ipython",
    "version": 3
   },
   "file_extension": ".py",
   "mimetype": "text/x-python",
   "name": "python",
   "nbconvert_exporter": "python",
   "pygments_lexer": "ipython3",
   "version": "3.6.4"
  }
 },
 "nbformat": 4,
 "nbformat_minor": 2
}
